{
 "cells": [
  {
   "cell_type": "markdown",
   "metadata": {},
   "source": [
    "## Homework 1\n",
    "### MIN545 - Object oriented Programming and Data Structures \n",
    "Author: Orcun Sami Tandogan\n",
    "ID: 2535037"
   ]
  },
  {
   "cell_type": "markdown",
   "metadata": {},
   "source": [
    "---\n",
    "Answer 1"
   ]
  },
  {
   "cell_type": "code",
   "execution_count": 2,
   "metadata": {},
   "outputs": [
    {
     "data": {
      "text/plain": [
       "'You have not entered proper string value at least for one variable'"
      ]
     },
     "execution_count": 2,
     "metadata": {},
     "output_type": "execute_result"
    }
   ],
   "source": [
    "def isanagram(str1, str2):\n",
    "    try:\n",
    "        str1 = str1.lower() \n",
    "        str2 = str2.lower() \n",
    "        for i in str1:\n",
    "            if i in str2:\n",
    "                str2 = str2.replace(i,'',1) \n",
    "        if len(str2) == 0:\n",
    "            return True\n",
    "        else:\n",
    "            False \n",
    "    except:\n",
    "        return 'You have not entered proper string value at least for one variable'\n",
    "str1 = 5#'New York Times'\n",
    "str2 = 'monkeys write'\n",
    "isanagram(str1, str2) \n",
    "\n"
   ]
  },
  {
   "cell_type": "markdown",
   "metadata": {},
   "source": [
    "---\n",
    "Answer II "
   ]
  },
  {
   "cell_type": "code",
   "execution_count": 118,
   "metadata": {},
   "outputs": [],
   "source": [
    "lst_T = [2,3,52,19] \n",
    "lst_T = [2,101,71462394821,55467547393] \n",
    "lst_T = [2,3,5,7,11]\n",
    "lst_T = [-2,-3,-52,-19] \n",
    "def first_non_prime(lst): \n",
    "    for i in lst:  \n",
    "        for j in range(2,int(i/2)+1): \n",
    "            if i % j == 0: \n",
    "                return print(i)   \n",
    "first_non_prime(lst_T)                  "
   ]
  },
  {
   "cell_type": "markdown",
   "metadata": {},
   "source": [
    "---\n",
    "Answer III "
   ]
  },
  {
   "cell_type": "code",
   "execution_count": 119,
   "metadata": {},
   "outputs": [
    {
     "name": "stdout",
     "output_type": "stream",
     "text": [
      "4\n"
     ]
    },
    {
     "data": {
      "text/plain": [
       "3"
      ]
     },
     "execution_count": 119,
     "metadata": {},
     "output_type": "execute_result"
    }
   ],
   "source": [
    "def substring_count(first, second):\n",
    "    count = 0 \n",
    "    try: \n",
    "        flen = len(first)\n",
    "        slen = len(second) \n",
    "        for i in range(flen):\n",
    "            temp = first[i:slen] \n",
    "            slen += 1\n",
    "            if temp == second: \n",
    "                count += 1 \n",
    "        return count         \n",
    "    except: \n",
    "        return 'You have not entered proper string value at least for one variable'\n",
    "            \n",
    "    \n",
    "print(substring_count(\"lifeforlifeforlifeforlife\",\"life\"))  # returns 4\n",
    "substring_count(\"lifeforlifeforlifeforlife\",\"lifeforlife\") # returns 3"
   ]
  },
  {
   "cell_type": "markdown",
   "metadata": {},
   "source": [
    "Answer IV "
   ]
  },
  {
   "cell_type": "code",
   "execution_count": 155,
   "metadata": {},
   "outputs": [],
   "source": [
    "class Circle():\n",
    "    # pi = 3.1415 \n",
    "    def __init__(self, radius = 1):\n",
    "        self._radius = radius \n",
    "        self._diameter = 2 * self._radius \n",
    "        self._area = 3.1415 * self._radius * self._radius \n",
    "        \n",
    "    def radius(self,annotated_radius = 'x'):\n",
    "        if isinstance(annotated_radius, float) == True or isinstance(annotated_radius, int) == True: \n",
    "            if self._radius != annotated_radius: \n",
    "                self._radius = annotated_radius                     # Redefinition of the radius \n",
    "                self._diameter = 2 * self._radius                   # Redefinition of the diameter \n",
    "                self._area = 3.1415 * self._radius * self._radius   # Redefinition of the area    \n",
    "                return self._radius \n",
    "        else:\n",
    "            return self._radius \n",
    "    \n",
    "    def diameter(self,annotated_diameter = 'x'):\n",
    "        if isinstance(annotated_diameter, float) == True or isinstance(annotated_diameter, int) == True: \n",
    "            if self._diameter != annotated_diameter:\n",
    "                self._diameter != annotated_diameter                # Redefinition of the diameter\n",
    "                self._radius = annotated_radius                     # Redefinition of the radius \n",
    "                self._area = 3.1415 * self._radius * self._radius   # Redefinition of the area    \n",
    "                return self._diameter\n",
    "        else:\n",
    "            return self._diameter \n",
    "\n",
    "    def area(self, annotated_area = 'x' ):\n",
    "        if isinstance(annotated_area, float) == True or isinstance(annotated_area, int) == True: \n",
    "            if self._area != annotated_area:\n",
    "                self._area = annotated_area       # Redefinition of the area \n",
    "                self._r = self._area / 3.1415     # Recalculation of the radius \n",
    "                self._r = math.sqrt(self._r)       # Recalculation of the radius \n",
    "                self._radius = self._r            # Recalculation of the radius \n",
    "                self._diameter = self._radius * 2 # Recalculation of the diameter \n",
    "                return self._area \n",
    "        else: \n",
    "            return self._area \n",
    "\n",
    "    def __str__(self):\n",
    "        return ('Circle({})'.format(self._radius))\n",
    "    def __repr__(self):\n",
    "        return ('Circle({})'.format(self._radius)) \n"
   ]
  },
  {
   "cell_type": "code",
   "execution_count": 156,
   "metadata": {},
   "outputs": [
    {
     "name": "stdout",
     "output_type": "stream",
     "text": [
      "Circle(5)\n",
      "5\n",
      "10\n",
      "78.53750000000001\n",
      "------\n",
      "Additionally...\n",
      "1\n",
      "2\n",
      "------\n",
      "The Circle class’s radius,...\n",
      "1\n",
      "4.5\n",
      "63.61537500000001\n",
      "10\n",
      "------\n",
      "Make sure that...\n",
      "2\n",
      "3.1415\n",
      "Circle(1)\n",
      "4\n",
      "12.566\n",
      "Circle(2)\n",
      "5\n",
      "1.2615848648268866\n",
      "2.523169729653773\n",
      "Circle(1.2615848648268866)\n"
     ]
    }
   ],
   "source": [
    "# Can be opened\n",
    "c = Circle(5) \n",
    "print(c) \n",
    "print(c.radius())\n",
    "print(c.diameter())\n",
    "print(c.area()) \n",
    "print('------\\nAdditionally...')\n",
    "c = Circle() \n",
    "print(c.radius())\n",
    "print(c.diameter())     \n",
    "print('------\\nThe Circle class’s radius,...')\n",
    "c = Circle() \n",
    "print(c.radius()) \n",
    "c.radius(float(4.5)) \n",
    "print(c.radius()) \n",
    "print(c.area()) \n",
    "c.area(10)\n",
    "print(c.area()) \n",
    "print('------\\nMake sure that...')\n",
    "c = Circle(2) \n",
    "c.radius(1)\n",
    "print(c.diameter()) \n",
    "print(c.area()) \n",
    "print(c) \n",
    "c.radius(2)  \n",
    "print(c.diameter()) \n",
    "print(c.area()) \n",
    "print(c) \n",
    "Circle(2.0) \n",
    "print( c.area(5) ) \n",
    "print( c.radius() ) \n",
    "print( c.diameter() )\n",
    "print( c ) "
   ]
  },
  {
   "cell_type": "markdown",
   "metadata": {},
   "source": [
    "Answer V "
   ]
  },
  {
   "cell_type": "code",
   "execution_count": 114,
   "metadata": {},
   "outputs": [],
   "source": [
    "import math\n",
    "\n",
    "class Polygon:\n",
    "    def __init__(self, sides):\n",
    "        \"\"\"Initialized with the lengths of the sides\"\"\"\n",
    "        for s in sides:\n",
    "            if s <= 0:\n",
    "                raise ValueError('Side lengths must be positive')\n",
    "        self._sides = sides\n",
    "        self._name = \"Polygon\"\n",
    "\n",
    "    def name(self):\n",
    "        return self._name\n",
    "\n",
    "    def area(self):\n",
    "        \"\"\"The area of an arbitrary polygon is unknown\"\"\"\n",
    "        return None #placeholder\n",
    "\n",
    "    def perimeter(self):\n",
    "        total = 0.0\n",
    "        for s in self._sides:\n",
    "            total += s\n",
    "        return round(total, 4 )\n",
    "\n",
    "\n",
    "class Triangle(Polygon): \n",
    "    def __init__(self, s1, s2, s3 ): \n",
    "        sides = [s1,s2,s3] \n",
    "        super().__init__(sides) \n",
    "        self._side1 = s1 \n",
    "        self._side2 = s2 \n",
    "        self._side3 = s3 \n",
    "        self._name = 'Triangle'\n",
    "\n",
    "    def __name__(self):\n",
    "        return self._name \n",
    "\n",
    "    def area(self): \n",
    "        a = self._side1 \n",
    "        b = self._side2 \n",
    "        c = self._side3 \n",
    "        s = (a + b + c) / 2   \n",
    "        self._area = (s*(s-a)*(s-b)*(s-c)) ** 0.5          \n",
    "        return round(self._area , 4 )  \n",
    "\n",
    "    def __iter__(self):\n",
    "        return self         \n",
    "\n",
    "class IsocelesTriangle(Polygon): \n",
    "    def __init__(self, s1, s2 ):  \n",
    "        sides = [s1*2,s2] \n",
    "        super().__init__(sides) \n",
    "        self._side1 = s1 \n",
    "        self._side2 = s2 \n",
    "        self._name = 'IsocelesTriangle'\n",
    "\n",
    "    def __name__(self):\n",
    "        return self._name \n",
    "    \n",
    "    def area(self):\n",
    "        a = self._side1 \n",
    "        b = self._side2 \n",
    "        self._area = (b * math.sqrt((4 * a * a) - (b * b)))/4 \n",
    "        return round(self._area , 4 ) \n",
    "\n",
    "\n",
    "class EquilateralTriangle(Polygon): \n",
    "    def __init__(self, s1 ):  # IsocelesTriangle(4.1,1),\n",
    "        sides = [s1*3] \n",
    "        super().__init__(sides) \n",
    "        self._side1 = s1 \n",
    "        self._name = 'EquilateralTriangle' \n",
    "\n",
    "    def __name__(self):\n",
    "        return self._name \n",
    "    \n",
    "    def area(self):\n",
    "        a = self._side1 \n",
    "        self._area = (math.sqrt(3)/ 4)*(a * a) \n",
    "        return round( self._area , 4 ) \n",
    "\n",
    "\n",
    "\n",
    "class Rectangle(Polygon): \n",
    "    def __init__(self, s1,s2 ):  # IsocelesTriangle(4.1,1),\n",
    "        sides = [s1*2,s2*2] \n",
    "        super().__init__(sides) \n",
    "        self._side1 = s1 \n",
    "        self._side2 = s2 \n",
    "        self._name = 'Rectangle' \n",
    "\n",
    "    def __name__(self):\n",
    "        return self._name \n",
    "    \n",
    "    def area(self):\n",
    "        a = self._side1 \n",
    "        b = self._side2\n",
    "        self._area = a*b\n",
    "        return round(self._area, 4)  \n",
    "\n",
    "\n",
    "\n",
    "class Square(Polygon): \n",
    "    def __init__(self, s1 ):  \n",
    "        sides = [s1*4] \n",
    "        super().__init__(sides) \n",
    "        self._side1 = s1 \n",
    "        self._name = 'Square' \n",
    "\n",
    "    def __name__(self):\n",
    "        return self._name \n",
    "    \n",
    "    def area(self):\n",
    "        a = self._side1 \n",
    "        self._area = a*a \n",
    "        return round(self._area , 4) \n"
   ]
  },
  {
   "cell_type": "code",
   "execution_count": 116,
   "metadata": {},
   "outputs": [
    {
     "name": "stdout",
     "output_type": "stream",
     "text": [
      "Polygon Area: None  Perimeter: 11.9\n",
      "Triangle Area: 7.1346  Perimeter: 12.9\n",
      "IsocelesTriangle Area: 2.0347  Perimeter: 9.2\n",
      "EquilateralTriangle Area: 7.6383  Perimeter: 12.6\n",
      "Rectangle Area: 20  Perimeter: 18.0\n",
      "Square Area: 10.5625  Perimeter: 13.0\n"
     ]
    }
   ],
   "source": [
    "shapelist = [Polygon([1.0,4.5,3.1,3.3]),\n",
    "             Triangle(3.4,5.3,4.2),\n",
    "             IsocelesTriangle(4.1,1),\n",
    "             EquilateralTriangle(4.2),\n",
    "             Rectangle(5,4),\n",
    "             Square(3.25)]\n",
    "\n",
    "for shape in shapelist:\n",
    "    print('{} Area: {}  Perimeter: {}'.format(shape.name(),\n",
    "                                                           shape.area(),\n",
    "                                                           shape.perimeter()))"
   ]
  }
 ],
 "metadata": {
  "interpreter": {
   "hash": "18d674fb76b5edbcd218426be409c71808fa067c7e621c5dc00bf94ee7ed9f0c"
  },
  "kernelspec": {
   "display_name": "Python 3.8.5 64-bit ('test_env17': conda)",
   "language": "python",
   "name": "python3"
  },
  "language_info": {
   "codemirror_mode": {
    "name": "ipython",
    "version": 3
   },
   "file_extension": ".py",
   "mimetype": "text/x-python",
   "name": "python",
   "nbconvert_exporter": "python",
   "pygments_lexer": "ipython3",
   "version": "3.8.5"
  },
  "orig_nbformat": 4
 },
 "nbformat": 4,
 "nbformat_minor": 2
}
